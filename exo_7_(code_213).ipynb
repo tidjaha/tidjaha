{
  "nbformat": 4,
  "nbformat_minor": 0,
  "metadata": {
    "colab": {
      "provenance": []
    },
    "kernelspec": {
      "name": "python3",
      "display_name": "Python 3"
    },
    "language_info": {
      "name": "python"
    }
  },
  "cells": [
    {
      "cell_type": "code",
      "execution_count": null,
      "metadata": {
        "id": "KwUbwYGFf2rk"
      },
      "outputs": [],
      "source": [
        "import os\n",
        "with open(\"texte1.txt\", \"w+\") as text1:\n",
        "  text1.write(\"Hello World ! \")\n",
        "with open(\"texte2.txt\", \"w+\") as text2:\n",
        "  text2.write(\"I need your help ! \")\n",
        "with open(\"texte1.txt\") as text1:\n",
        "  t1=text1.read()\n",
        "with open(\"texte2.txt\") as text2:\n",
        "  t2=text2.read()\n",
        "with open(\"textfinal\",\"a\") as text3:\n",
        "  text3.write(t1)\n",
        "  text3.write(t2)\n",
        "os.remove(\"texte1.txt\")\n",
        "os.remove(\"texte2.txt\")"
      ]
    }
  ]
}