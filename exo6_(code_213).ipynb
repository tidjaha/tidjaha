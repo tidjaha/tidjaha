{
  "nbformat": 4,
  "nbformat_minor": 0,
  "metadata": {
    "colab": {
      "provenance": []
    },
    "kernelspec": {
      "name": "python3",
      "display_name": "Python 3"
    },
    "language_info": {
      "name": "python"
    }
  },
  "cells": [
    {
      "cell_type": "code",
      "execution_count": null,
      "metadata": {
        "colab": {
          "base_uri": "https://localhost:8080/"
        },
        "id": "VUmB4b6RNd-h",
        "outputId": "7e848ff1-2cc4-4f71-8dfd-c4494acdac06"
      },
      "outputs": [
        {
          "output_type": "stream",
          "name": "stdout",
          "text": [
            "entrer un nombre entier superieur ou egal à 1 : 5\n",
            "la somme des nombres de 1 à 5 est :  15\n"
          ]
        }
      ],
      "source": [
        "def somme_nombres(n):\n",
        "  s=0\n",
        "  for i in range(1,n+1):\n",
        "    s=s+i\n",
        "  return s\n",
        "while True:\n",
        "  n=input(\"entrer un nombre entier superieur ou egal à 1 : \")\n",
        "  try :\n",
        "    n=int(n)\n",
        "    if n>=1:\n",
        "      break\n",
        "    else :\n",
        "      print(\"entrer un chiffre superieur à 1\")\n",
        "  except ValueError:\n",
        "    print(\"entrer un chiffre entier svp\")\n",
        "print(\"la somme des nombres de 1 à\",n,\"est : \",somme_nombres(n))"
      ]
    }
  ]
}