{
  "nbformat": 4,
  "nbformat_minor": 0,
  "metadata": {
    "colab": {
      "provenance": []
    },
    "kernelspec": {
      "name": "python3",
      "display_name": "Python 3"
    },
    "language_info": {
      "name": "python"
    }
  },
  "cells": [
    {
      "cell_type": "code",
      "execution_count": null,
      "metadata": {
        "colab": {
          "base_uri": "https://localhost:8080/"
        },
        "id": "oVdWpEV2WxfO",
        "outputId": "b00731de-168c-47f5-9050-d1529068192c"
      },
      "outputs": [
        {
          "output_type": "stream",
          "name": "stdout",
          "text": [
            "entrer le nombre que vous voulez : 0\n",
            "la somme des chiffres qui ont été donné est :  0.0\n"
          ]
        }
      ],
      "source": [
        "nombre = float(input(\"entrer le nombre que vous voulez : \"))\n",
        "somme=nombre\n",
        "while nombre!=0:\n",
        "  nombre = float(input(\"entrer le nombre que vous voulez\"))\n",
        "  somme=somme+nombre\n",
        "print(\"la somme des chiffres qui ont été donné est : \", somme)"
      ]
    }
  ]
}