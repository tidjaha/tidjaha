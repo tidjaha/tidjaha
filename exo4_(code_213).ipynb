{
  "nbformat": 4,
  "nbformat_minor": 0,
  "metadata": {
    "colab": {
      "provenance": []
    },
    "kernelspec": {
      "name": "python3",
      "display_name": "Python 3"
    },
    "language_info": {
      "name": "python"
    }
  },
  "cells": [
    {
      "cell_type": "code",
      "execution_count": null,
      "metadata": {
        "colab": {
          "base_uri": "https://localhost:8080/"
        },
        "id": "z_YkWiHaERbi",
        "outputId": "7e918921-0dfe-42b6-a9ef-c27599a27688"
      },
      "outputs": [
        {
          "output_type": "stream",
          "name": "stdout",
          "text": [
            "entrer un element de votre liste (un nombre): 2m\n",
            "entrer un chiffre svp\n",
            "entrer un element de votre liste (un nombre): 2\n",
            "voulez vous entrer un autre élément ?\n",
            "tapez n'importe quelle touche pour continuer OU N pour arreter\n",
            "entrer un element de votre liste (un nombre): 5\n",
            "voulez vous entrer un autre élément ?\n",
            "tapez n'importe quelle touche pour continuer OU N pour arretern\n",
            "la moyenne de votre liste est : 3.5\n"
          ]
        }
      ],
      "source": [
        "def moyenne_liste(l):\n",
        "  dim=len(l)\n",
        "  s=0\n",
        "  for i in range(dim):\n",
        "    s=s+l[i]\n",
        "  moyenne=s/dim\n",
        "  return moyenne\n",
        "l=[]\n",
        "while True:\n",
        "  while True:\n",
        "    a=input(\"entrer un element de votre liste (un nombre): \")\n",
        "    try :\n",
        "      a=float(a)\n",
        "      break\n",
        "    except ValueError:\n",
        "     print(\"entrer un chiffre svp\")\n",
        "  l.append(a)\n",
        "  arret=input(\"voulez vous entrer un autre élément ?\\ntapez n'importe quelle touche pour continuer OU N pour arreter\")\n",
        "  if arret==\"N\" or arret==\"n\":\n",
        "    break\n",
        "print(\"la moyenne de votre liste est :\", moyenne_liste(l))"
      ]
    }
  ]
}