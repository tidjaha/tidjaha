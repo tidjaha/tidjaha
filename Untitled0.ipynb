{
  "nbformat": 4,
  "nbformat_minor": 0,
  "metadata": {
    "colab": {
      "provenance": []
    },
    "kernelspec": {
      "name": "python3",
      "display_name": "Python 3"
    },
    "language_info": {
      "name": "python"
    }
  },
  "cells": [
    {
      "cell_type": "code",
      "execution_count": null,
      "metadata": {
        "colab": {
          "base_uri": "https://localhost:8080/"
        },
        "id": "PhGFUWz-HOaa",
        "outputId": "244eecc7-8980-4e4f-a2f7-80d60d6e1d74"
      },
      "outputs": [
        {
          "output_type": "stream",
          "name": "stdout",
          "text": [
            "['pomme banane cerise avocat']\n",
            "['pomme', 'banane', 'cerise', 'avocat']\n",
            "['avocat', 'cerise', 'banane', 'pomme']\n",
            "avocatcerisebananepomme\n"
          ]
        }
      ],
      "source": [
        "with open(\"test.txt\", \"w+\") as f:\n",
        "  f.write(\"pomme banane cerise avocat\")\n",
        "with open('test.txt') as f:\n",
        "  maliste= f.readlines()\n",
        "\n",
        "print(maliste)\n",
        "maliste=maliste[0].split(sep=\" \")\n",
        "print(maliste)\n",
        "maliste.reverse()\n",
        "print(maliste)\n",
        "with open(\"test.txt\", \"w\") as f:\n",
        "  for i in range (len(maliste)):\n",
        "    f.write(maliste[i])\n",
        "with open(\"test.txt\",) as f:\n",
        "  print(f.read())"
      ]
    }
  ]
}